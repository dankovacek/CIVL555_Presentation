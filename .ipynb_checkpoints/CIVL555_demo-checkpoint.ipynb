{
 "cells": [
  {
   "cell_type": "markdown",
   "metadata": {},
   "source": [
    "# CIVL 555 - Final Project Discussion\n",
    "\n",
    "| Name | Student Number | Date |\n",
    "|---|---|---|\n",
    "| Dan Kovacek | 35402767 | 17 April 2020 |\n",
    "\n",
    "### Overview\n",
    "The focus of this presentation is the paper *Sensor Placement in Water Networks Using a Population-Based Ant Colony Optimization Algorithm* (Diwold, Ruhnke, and Middendorf 2010).  The format of this presentation is an interactive Python notebook (using Jupyter), and the aim is to introduce the mechanics of a basic Ant Colony Optimization (ACO) algorithm through implementation of an ACO to the same type of optimal sensor placement problem (SPP) approached in the study.\n",
    "\n",
    "### Example Case\n",
    "Like many other studies, (Diwold, Ruhnke, and Middendorf 2010) uses two municipal water networks (MWN) provided by the United States Envirionmental Protection Agency (USEPA) as benchmark examples to demonstrate the performance of the ACO algorithm developed in their study.  Both MWNs are freely available online, and the one selected for demonstration herein represents the water distribution network of Richmond, Virginia.  The MWN features 872 nodes and 957 connecting pipes.\n",
    "\n",
    "### Open Source Frameworks\n",
    "\n",
    "The open-source Python package [WNTR (Water Network Tool for Resilience)](https://wntr.readthedocs.io/en/latest/), developed by Sandia National Laboratories, is used here to demonstrate the setup and execution of a hydraulic model that implements an ACO algorithm similar to that presented in (Diwold, Ruhnke, and Middendorf 2010).\n",
    "\n",
    "The WNTR package is extremely powerful and is equipped for analyzing many problems related to MWNs, including hydraulic modelling, and optimal sensor placement for such problems as leak localization and contamination detection."
   ]
  },
  {
   "cell_type": "code",
   "execution_count": 45,
   "metadata": {},
   "outputs": [],
   "source": [
    "# python package imports\n",
    "import wntr\n",
    "import chama\n",
    "\n",
    "import numpy as np\n",
    "import pandas as pd\n",
    "import matplotlib.pyplot as plt"
   ]
  },
  {
   "cell_type": "code",
   "execution_count": 8,
   "metadata": {},
   "outputs": [
    {
     "name": "stderr",
     "output_type": "stream",
     "text": [
      "/home/danbot/Documents/code/hydraulic_sim_env/lib/python3.6/site-packages/wntr/epanet/io.py:2085: UserWarning: Not all curves were used in \"Richmond.txt\"; added with type None, units conversion left to user\n",
      "  warnings.warn('Not all curves were used in \"{}\"; added with type None, units conversion left to user'.format(self.wn.name))\n"
     ]
    }
   ],
   "source": [
    "# import the network graph representation of the MWN\n",
    "filename_skel = 'Richmond_skeleton.txt'\n",
    "filename_full = 'Richmond.txt'\n",
    "\n",
    "# wn = wntr.network.WaterNetworkModel(filename_skel)\n",
    "wn = wntr.network.WaterNetworkModel(filename_full)"
   ]
  },
  {
   "cell_type": "code",
   "execution_count": 42,
   "metadata": {},
   "outputs": [
    {
     "data": {
      "text/plain": [
       "(<matplotlib.collections.PathCollection at 0x7fb032072710>,\n",
       " <matplotlib.collections.LineCollection at 0x7fb032072a90>)"
      ]
     },
     "execution_count": 42,
     "metadata": {},
     "output_type": "execute_result"
    },
    {
     "data": {
      "image/png": "[encoded data removed]",
      "text/plain": [
       "<Figure size 432x288 with 1 Axes>"
      ]
     },
     "metadata": {},
     "output_type": "display_data"
    }
   ],
   "source": [
    "# visualize the network\n",
    "# fig, ax = plt.subplots(1, 1, figsize=(4,4))\n",
    "wntr.graphics.plot_network(wn, title=\"Richmond, VA Water Distribution Network\")"
   ]
  },
  {
   "cell_type": "markdown",
   "metadata": {},
   "source": [
    "# Ant Colony Optimiztion (ACO)\n",
    "\n",
    "The ACO is an algorithm that mimics the foraging behaviour of ant colonies in nature.  Individual ants can search the decision space near the current set of optimal solutions to make refinements on the existing solution (referred to as local heuristics), or they can search farther away to escape the local optima and find a better solution (pheromone information).  \n",
    "\n",
    "# (Population Based) Ant Colony Optimization (PACO)\n",
    "\n",
    "The ACO is limited to single-objective optimization problems.  An approach to address multi-objective optimization problems was proposed by (Guntsch et al. 2003) wherein instead of the set of ants only remembering one best solution each generation, a 'population' of best solutions describing the non-dominated Pareto set is constructed.  The pheromone information gets distributed to this population, and the population is updated when a newly encountered solution is found to dominate a solution in the population.  The newly dominated solution is then removed from having influence on the search."
   ]
  },
  {
   "cell_type": "markdown",
   "metadata": {},
   "source": [
    "## Set up the Simulation Parameters\n",
    "\n",
    "Set up the parameters used in the simulation.  Comments will indicate the parameter settings that were used in (Diwold, Ruhnke, and Middendorf 2010)."
   ]
  },
  {
   "cell_type": "code",
   "execution_count": 21,
   "metadata": {},
   "outputs": [],
   "source": [
    "# number of flow patterns \n",
    "n_patterns = 10 # 55\n",
    "# flow scenario cycle time (hours)\n",
    "t_cycle = 24 # 24\n",
    "# number of sensors\n",
    "n_sensors = 3 # 5\n",
    "# number of sets of contamination events\n",
    "n_event_sets = 1 # 2\n",
    "# number of contamination events\n",
    "n_cont_events = 500 # 2000"
   ]
  },
  {
   "cell_type": "markdown",
   "metadata": {},
   "source": [
    "# Define the Objective Function(s)\n",
    "\n",
    "In the case of (Diwold, Ruhnke, and Middendorf 2010), the objectives are to minimize the detection time of contaminations ($Z_1$), defined as the elapsed time between the start of the contamination event and the detection by a sensor, assuming ideal sensor operation, and to minimize the rate of non-detection ($Z_2$), defined as the number of contamination scenarios for which the given network cannot detect the contamination event.  \n",
    "\n",
    "$$Z_1(S, C) = \\frac{1}{D_S^C} \\sum_{C\\in D_S^C}d(C, S)$$\n",
    "$$Z_2(S, C) = 1 - \\frac{|D_S^C|}{|C|}$$\n",
    "\n",
    "Note that the two goals are in opposition, so movement in the decision space is necessarily a tradeoff of better performance of one criterion for worse performance of another criterion."
   ]
  },
  {
   "cell_type": "code",
   "execution_count": null,
   "metadata": {},
   "outputs": [],
   "source": []
  },
  {
   "cell_type": "markdown",
   "metadata": {},
   "source": [
    "## Probability of Sensor Placement\n",
    "\n",
    "\n",
    "\n",
    "An ant creates a solution iteratively, accounting for the sensors it has already placed.\n",
    "\n"
   ]
  },
  {
   "cell_type": "code",
   "execution_count": 37,
   "metadata": {},
   "outputs": [],
   "source": [
    "def determine_placement_probability(tau, eta, alpha, beta, n_sensors, n_nodes):\n",
    "    \"\"\"\n",
    "    Create the probability matrix of node selection, based on Equation 6 in \n",
    "    (Diwold, Ruhnke, and Middendorf 2010).\n",
    "    \"\"\"    \n",
    "    prob_array = np.zeros((n_nodes, n_sensors))\n",
    "    for k in range(n_sensors):\n",
    "        eta_array = np.power(eta[:, k], [beta for b in eta[:, k]])\n",
    "        tau_array = np.power(tau, [alpha for a in tau])\n",
    "        sum_tau_eta = np.dot(eta_array, tau_array).sum()\n",
    "        for i in range(n_nodes):\n",
    "            prob_array[k, i] = ((tau[i]**alpha) * (eta[k, i]**beta)) / (sum_tau_eta)\n",
    "    return prob_array\n",
    "            \n",
    "    "
   ]
  },
  {
   "cell_type": "code",
   "execution_count": 22,
   "metadata": {},
   "outputs": [],
   "source": [
    "tau1 = [1, 2, 1, 2.3, 1.3, 0.5]\n",
    "eta = [(0.5, 1), (1, 1), (0.4, 0.3), (0.3, 0.4), (0.9, 1.1)]\n",
    "alp = 0.3\n",
    "bet = 0.9\n"
   ]
  },
  {
   "cell_type": "code",
   "execution_count": 35,
   "metadata": {},
   "outputs": [
    {
     "name": "stdout",
     "output_type": "stream",
     "text": [
      "[[0.5]\n",
      " [1. ]\n",
      " [0.4]\n",
      " [0.3]\n",
      " [0.9]]\n"
     ]
    }
   ],
   "source": [
    "tau_arr = np.power(tau1, [alp for a in tau1])\n",
    "# eta_arr = np.power(eta)\n",
    "eta_mat = np.matrix(eta)\n",
    "print(eta_mat[:,0])"
   ]
  },
  {
   "cell_type": "code",
   "execution_count": null,
   "metadata": {},
   "outputs": [],
   "source": [
    "wn.options.quality.mode = 'CHEMICAL'"
   ]
  },
  {
   "cell_type": "code",
   "execution_count": 6,
   "metadata": {},
   "outputs": [],
   "source": [
    "# Simulate hydraulics\n",
    "sim = wntr.sim.EpanetSimulator(wn)"
   ]
  },
  {
   "cell_type": "code",
   "execution_count": 7,
   "metadata": {},
   "outputs": [],
   "source": [
    "results = sim.run_sim()"
   ]
  },
  {
   "cell_type": "code",
   "execution_count": null,
   "metadata": {},
   "outputs": [],
   "source": []
  },
  {
   "cell_type": "markdown",
   "metadata": {},
   "source": [
    "# References\n",
    "\n",
    "* Klise, K.A., Murray, R., Haxton, T. (2018). An overview of the Water Network Tool for Resilience (WNTR), In Proceedings of the 1st International WDSA/CCWI Joint Conference, Kingston, Ontario, Canada, July 23-25, 075, 8p.\n",
    "\n",
    "* Klise, K.A., Bynum, M., Moriarty, D., Murray, R. (2017). A software framework for assessing the resilience of drinking water systems to disasters with an example earthquake case study, Environmental Modelling and Software, 95, 420-431, doi: 10.1016/j.envsoft.2017.06.022\n",
    "\n",
    "* Klise, K.A., Hart, D.B., Moriarty, D., Bynum, M., Murray, R., Burkhardt, J., Haxton, T. (2017). Water Network Tool for Resilience (WNTR) User Manual, U.S. Environmental Protection Agency Technical Report, EPA/600/R-17/264, 47p."
   ]
  },
  {
   "cell_type": "code",
   "execution_count": null,
   "metadata": {},
   "outputs": [],
   "source": []
  }
 ],
 "metadata": {
  "kernelspec": {
   "display_name": "Python 3",
   "language": "python",
   "name": "python3"
  },
  "language_info": {
   "codemirror_mode": {
    "name": "ipython",
    "version": 3
   },
   "file_extension": ".py",
   "mimetype": "text/x-python",
   "name": "python",
   "nbconvert_exporter": "python",
   "pygments_lexer": "ipython3",
   "version": "3.6.9"
  }
 },
 "nbformat": 4,
 "nbformat_minor": 4
}
