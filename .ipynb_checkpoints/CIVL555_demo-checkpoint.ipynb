{
 "cells": [
  {
   "cell_type": "markdown",
   "metadata": {},
   "source": [
    "# CIVL 555 - Final Project Discussion\n",
    "\n",
    "| Name | Student Number | Date |\n",
    "|---|---|---|\n",
    "| Dan Kovacek | 35402767 | 17 April 2020 |\n",
    "\n",
    "### Overview\n",
    "The focus of this presentation is the study:\n",
    "\n",
    ">*Sensor Placement in Water Networks Using a Population-Based Ant Colony Optimization Algorithm* (Diwold, Ruhnke, and Middendorf 2010).  \n",
    "\n",
    "The basic underlying question addressed in the paper asks:\n",
    "\n",
    ">How do we go about placing sensors to best protect a municipal water distribution system from (un)intentional contamination?\n",
    "\n",
    "The format of this presentation is an interactive Python notebook (using [Jupyter](https://chama.readthedocs.io/en/latest/overview.html)), and the aim is to develop an intuition of the general approach to the optimal sensor placement problem as it is applied to the contamination detection problem in water distribution networks.  The paper I chose to focus on for this discussion applies a genetic algorithm (GA) based on the Ant Colony Optimization (ACO) algorithm to the problem of optimal sensor placement for the contaminant detection problem."
   ]
  },
  {
   "cell_type": "markdown",
   "metadata": {},
   "source": [
    "### Case Study\n",
    "\n",
    "Like several other studies, (Diwold, Ruhnke, and Middendorf 2010) uses two municipal water networks (MWN) provided by the United States Envirionmental Protection Agency (USEPA) as benchmark examples to demonstrate the performance of the ACO algorithm developed in their study.  As noted in the paper, [both MWNs evaluated in the study are accessible online](http://www.projects.ex.ac.uk/cws/) (with a little digging), and the network selected for demonstration herein represents the water distribution network of Richmond, Virginia, USA.  The Richmond MWN features 872 nodes and 957 connecting pipes.\n",
    "\n"
   ]
  },
  {
   "cell_type": "markdown",
   "metadata": {},
   "source": [
    "## Questions to Consider\n",
    "\n",
    "1.  What are different ways in which the objective(s) could be stated?  \n",
    "  * What are we trying to accomplish?\n",
    "  \n",
    "\n",
    "2.  How would you evaluate the effectiveness of a solution in order to compare it with others?  \n",
    "  * What makes a good solution?\n",
    "\n",
    "\n",
    "3.  Where might we look to determine the largest sources of uncertainty that limit the power of the approach?  \n",
    "  * What aspect of the approach is furthest from reality?"
   ]
  },
  {
   "cell_type": "code",
   "execution_count": 1,
   "metadata": {},
   "outputs": [],
   "source": [
    "# python package imports\n",
    "import wntr\n",
    "import chama\n",
    "import numpy as np\n",
    "import pandas as pd\n",
    "import math\n",
    "import matplotlib.pyplot as plt"
   ]
  },
  {
   "cell_type": "markdown",
   "metadata": {},
   "source": [
    "## Import and Visualize the Water Distribution Network"
   ]
  },
  {
   "cell_type": "code",
   "execution_count": 2,
   "metadata": {},
   "outputs": [
    {
     "name": "stderr",
     "output_type": "stream",
     "text": [
      "/home/danbot/Documents/code/hydraulic_sim_env/lib/python3.6/site-packages/wntr/epanet/io.py:2085: UserWarning: Not all curves were used in \"networks/Richmond_skeleton.txt\"; added with type None, units conversion left to user\n",
      "  warnings.warn('Not all curves were used in \"{}\"; added with type None, units conversion left to user'.format(self.wn.name))\n"
     ]
    }
   ],
   "source": [
    "# import the network graph representation of the MWN \n",
    "# (the 'skeletion' is a smaller network for code development)\n",
    "filename = 'networks/Richmond_skeleton.txt'\n",
    "# filename = 'networks/Richmond.txt'\n",
    "title = 'Sample Water Distribution Network'\n",
    "wn = wntr.network.WaterNetworkModel(filename)"
   ]
  },
  {
   "cell_type": "code",
   "execution_count": 3,
   "metadata": {},
   "outputs": [
    {
     "name": "stdout",
     "output_type": "stream",
     "text": [
      "Nodes,  {'Junctions': 41, 'Tanks': 6, 'Reservoirs': 1}\n",
      "Links,  {'Pipes': 44, 'Pumps': {'Head': 7, 'Power': 0}, 'Valves': {'PRV': 0, 'PSV': 0, 'PBV': 0, 'TCV': 0, 'FCV': 0, 'GPV': 0}}\n",
      "Patterns,  9\n",
      "Curves,  {'Pump': 7, 'Efficiency': 7, 'Headloss': 0, 'Volume': 0}\n",
      "Sources,  0\n",
      "Controls,  14\n"
     ]
    }
   ],
   "source": [
    "wn_description = wn.describe(level=2)\n",
    "for p in wn_description:\n",
    "    print('{}, '.format(p), wn_description[p])"
   ]
  },
  {
   "cell_type": "code",
   "execution_count": 6,
   "metadata": {},
   "outputs": [
    {
     "data": {
      "image/png": "[encoded data removed]",
      "text/plain": [
       "<Figure size 1008x432 with 1 Axes>"
      ]
     },
     "metadata": {},
     "output_type": "display_data"
    }
   ],
   "source": [
    "# visualize the network\n",
    "net_plot = wntr.graphics.plot_network(wn, #node_attribute='elevation', \n",
    "                                      title=title)\n",
    "plt.rcParams[\"figure.figsize\"] = [14,6]\n",
    "plt.show()"
   ]
  },
  {
   "cell_type": "markdown",
   "metadata": {},
   "source": [
    "# Define the Objective Functions\n",
    "\n",
    "In the case of (Diwold, Ruhnke, and Middendorf 2010), the decision space corresponds to placement of a set number of sensors in the network to optimize the following objectives: \n",
    "\n",
    "1. **Minimize the detection time of contaminations ($Z_1$)**, defined as the elapsed time between the start of the contamination event and the detection by a sensor, assuming ideal sensor operation.\n",
    "$$Z_1(S, C) = \\frac{1}{D_S^C} \\sum_{C\\in D_S^C}d(C, S)$$\n",
    "2.  **Minimize the rate of non-detection ($Z_2$)**, defined as the number of contamination scenarios for which the given network cannot detect the contamination event.  \n",
    "$$Z_2(S, C) = 1 - \\frac{|D_S^C|}{|C|}$$\n",
    "\n",
    "It is not initially apparent, but the two goals are in opposition, so movement in the decision space is necessarily a tradeoff of better performance of one criterion for worse performance of another criterion."
   ]
  },
  {
   "cell_type": "markdown",
   "metadata": {},
   "source": [
    "## Novel Approach\n",
    "\n",
    "Sensor placement for contamination detection in a MWN is well studied, so what is novel about the approach used in (Diwold, Ruhnke, and Middendorf 2010)?\n",
    "\n",
    "* **Flow patterns**: the research recognizes that changing demand patterns have an effect on the transport of contaminants.  Demand patterns change on different timescales.  Think of a school's water use throughought a single day, and throughout a year.  Incorporating changing flow patterns adds to the computational complexity considerably, but captures a much more realistic picture of the hydraulics of the system compared to assuming a single quasi-steady-state flow pattern.\n",
    "* **WSP-PACO**: a unique variation of the ACO is developed in the paper, which is itself a variation on a \"Population based ACO\", or PACO, developed in previous work to specifically address the ACO for multiobjective optimization.\n",
    "\n",
    "Below is a diagram showing how different flow patterns are represented in the network graph formulation. Source: (Diwold, Ruhnke, and Middendorf 2010).\n",
    "\n",
    "![Flow Patterns Diagram](img/flow_patterns.png)"
   ]
  },
  {
   "cell_type": "markdown",
   "metadata": {},
   "source": [
    "## Ant Colony Optimiztion (ACO)\n",
    "\n",
    "The ACO is an algorithm that mimics the foraging behaviour of ant colonies in nature.  Individual ants can search the decision space near the current set of optimal solutions to make refinements on the existing solution (referred to as local heuristics), or they can search farther away to escape the local optima and find a better solution (pheromone information).  \n",
    "\n",
    "## (Population Based) Ant Colony Optimization (PACO)\n",
    "\n",
    "The ACO is limited to single-objective optimization problems.  An approach to address multi-objective optimization problems was proposed by (Guntsch et al. 2003) wherein instead of the set of ants only remembering one best solution each generation, a 'population' of best solutions describing the non-dominated Pareto set is constructed.  The pheromone information gets distributed to this population (Pareto set), and the population is updated when a newly encountered solution is found to dominate solutions in the population.  The newly dominated solution is then removed altogether from having influence on the search in future generations."
   ]
  },
  {
   "cell_type": "markdown",
   "metadata": {},
   "source": [
    "# Let's Try It!"
   ]
  },
  {
   "cell_type": "markdown",
   "metadata": {},
   "source": [
    "## How large is this decision space?\n",
    "\n",
    "As shown below, there are 400 billion combinations of 5 sensors possible in the Richmond, VA network.  \n",
    "\n",
    "In (Diwold, Ruhnke, and Middendorf 2010), the entire decision space is not solved.  Rather, two sets of 2000 randomly selected scenarios are evaluated."
   ]
  },
  {
   "cell_type": "code",
   "execution_count": 7,
   "metadata": {},
   "outputs": [
    {
     "name": "stdout",
     "output_type": "stream",
     "text": [
      "There are 7.5e+05 possible decisions in the decision space.\n"
     ]
    }
   ],
   "source": [
    "def binom(n, k):\n",
    "    return math.factorial(n) // math.factorial(k) // math.factorial(n - k)\n",
    "\n",
    "number_of_nodes = len(wn.junction_name_list)\n",
    "number_of_sensors = 5\n",
    "decision_space_size = binom(number_of_nodes, number_of_sensors)\n",
    "print('There are {:.1e} possible decisions in the decision space.'.format(decision_space_size))"
   ]
  },
  {
   "cell_type": "markdown",
   "metadata": {},
   "source": [
    "# Set up the parameters for modelling the contamination events\n",
    "\n",
    "Contamination events in (Diwold, Ruhnke, and Middendorf 2010) were modelled after those developed in a previous study, which are described as follows (Ostfeld et al. 2008):\n",
    "\n",
    "> ...an ensemble of contamination scenarios sampled from a statistical distribution; the probability distribution of contamination events is described herein. Contaminant intrusions occurred at network nodes, with an injection flow rate of 125 L/h, contaminant concentration of 230,000 mg/L, and an injection duration of 2h.  \n",
    "\n",
    "Noting that the sensor placement problem in (Diwold, Ruhnke, and Middendorf 2010) evaluated a fixed number of sensors (five), and recalling that the Richmond, VA network has 872 nodes, the number of possible scenarios is in the order of $4\\times10^{12}$.  Since it is not feasible to search this decision space completely, a random selection of 2000 contamination events is chosen from a uniform distribution (this just means 2000 selections (with replacement?) of five nodes is sampled from the full decision space.)\n",
    "\n",
    "In this example approach, the problem is formulated differently.  As a result, we can only compare the outcome."
   ]
  },
  {
   "cell_type": "code",
   "execution_count": 8,
   "metadata": {},
   "outputs": [],
   "source": [
    "scenario_names = wn.junction_name_list\n",
    "wn.options.solver.damplimit = 0.01\n",
    "sim = wntr.sim.EpanetSimulator(wn)\n",
    "sim.run_sim(save_hyd=True)\n",
    "wn.options.quality.mode = 'TRACE'"
   ]
  },
  {
   "cell_type": "markdown",
   "metadata": {},
   "source": [
    "## Set up the Contamination Hydraulic Model\n",
    "\n",
    "To be more computationally efficient, the contamination hydraulic model should be initialized before the sensor placement problem is run.  \n",
    "\n",
    "What this essentially produces is a unique hydraulic model for each scenario, which results in one contamination event at each feasible node for each flow pattern considered.\n",
    "\n",
    "Simulations can are run for different scenarios of contamination *at each junction*, thereby covering the entire decision space.  These contaminant tracer scenarios are then saved to disk and recalled later for the sensor placement problem."
   ]
  },
  {
   "cell_type": "code",
   "execution_count": 9,
   "metadata": {},
   "outputs": [],
   "source": [
    "# Run trace simulations (one from each junction) and extract data needed for \n",
    "# sensor placement optimization. You can run this step once, save the data to a \n",
    "# file, and reload the file for sensor placement\n",
    "\n",
    "# note this only has to be run ONCE\n",
    "# before the sensor placement problem is executed\n",
    "# IT TAKES A LONG TIME FOR A LARGE NETWORK\n",
    "\n",
    "signal = pd.DataFrame()\n",
    "for inj_node in scenario_names:\n",
    "    wn.options.quality.trace_node = inj_node\n",
    "    wn.options.solver.damplimit = 0.1\n",
    "    sim_results = sim.run_sim(use_hyd=True)\n",
    "    trace = sim_results.node['quality']\n",
    "    trace = trace.stack()\n",
    "    trace = trace.reset_index()\n",
    "    trace.columns = ['T', 'Node', inj_node]\n",
    "    signal = signal.combine_first(trace)\n",
    "signal.to_csv('test_signal.csv')"
   ]
  },
  {
   "cell_type": "markdown",
   "metadata": {},
   "source": [
    "## Define the set of feasible sensor locations\n",
    "\n",
    "Feasible sensor locations are determined by the physical location, sample times (1h timestep over 24h cycle), and the detection threshold (20 mg/L).\n",
    "\n",
    "Then, for each contamination scenario at each node, extract the minimum detection time.\n"
   ]
  },
  {
   "cell_type": "markdown",
   "metadata": {},
   "source": [
    "### Define feasible sensors using location, sample times, and detection threshold\n",
    "\n",
    "The hydraulic model characterizing the movement of contaminated water in each scenario runs for 24 hours in steps of 1 hour."
   ]
  },
  {
   "cell_type": "code",
   "execution_count": 10,
   "metadata": {},
   "outputs": [],
   "source": [
    "# check if the signal dataframe was generated in this run,\n",
    "# or if it needs to be loaded from memory\n",
    "if len(signal) == 0:\n",
    "    signal = pd.read_csv('test_signal.csv')"
   ]
  },
  {
   "cell_type": "code",
   "execution_count": 11,
   "metadata": {},
   "outputs": [],
   "source": [
    "sensor_names = wn.junction_name_list\n",
    "# sample times starts at zero, ends at 86400 s (24 hours), and \n",
    "# the hydraulic model proceeds in steps of 1h.\n",
    "sample_times = np.arange(0, wn.options.time.duration, wn.options.time.hydraulic_timestep)\n",
    "threshold = 20\n",
    "sensors = {}\n",
    "for location in sensor_names:\n",
    "    position = chama.sensors.Stationary(location)\n",
    "    detector = chama.sensors.Point(threshold, sample_times)\n",
    "    stationary_pt_sensor = chama.sensors.Sensor(position, detector)\n",
    "    sensors[location] = stationary_pt_sensor\n",
    "    \n",
    "    \n",
    "# Extract all sensor-scenario detection times\n",
    "det_times = chama.impact.extract_detection_times(signal, sensors)\n",
    "det_time_stats = chama.impact.detection_time_stats(det_times)\n",
    "\n",
    "# Extract minimum detection time for each scenario-sensor pair\n",
    "min_det_time = det_time_stats[['Scenario','Sensor','Min']].copy()\n",
    "min_det_time.rename(columns = {'Min':'Impact'}, inplace = True)"
   ]
  },
  {
   "cell_type": "code",
   "execution_count": 12,
   "metadata": {},
   "outputs": [],
   "source": [
    "scenario_cov = chama.impact.detection_times_to_coverage(det_times, coverage_type='scenario')"
   ]
  },
  {
   "cell_type": "markdown",
   "metadata": {},
   "source": [
    "## Run the Sensor Placement Optimization Algorithm\n",
    "\n",
    "Note that the Chama package formulates the objective function in the form of the p-mean facility location problem, which is different than what is presented in (Diwold, Ruhnke, and Middendorf 2010).  However, it is possible to substitute the methodology for a customized optimization algorithm.  "
   ]
  },
  {
   "cell_type": "code",
   "execution_count": 17,
   "metadata": {},
   "outputs": [],
   "source": [
    "#   Run sensor placement optimization to minimize detection time using 0 to 5 sensors\n",
    "#   The impact for undetected scenarios is set at 1.5x the max sample time\n",
    "#   Sensor cost is defined uniformly using a value of 1.  This means that\n",
    "#   sensor_budget is equal to the number of sensors to place\n",
    "impactform = chama.optimize.ImpactFormulation()\n",
    "scenario_characteristics = pd.DataFrame({'Scenario': scenario_names,\n",
    "                                         'Undetected Impact': sample_times.max()*1.5})\n",
    "\n",
    "sensor_characteristics = pd.DataFrame({'Sensor': sensor_names,'Cost': 1})\n",
    "sensor_budget = [0,1,2,3,4,5]\n",
    "impact_results = {}\n",
    "for n in sensor_budget:\n",
    "    impactform = chama.optimize.ImpactFormulation()\n",
    "    coveragform = chama.optimize.CoverageFormulation()\n",
    "    \n",
    "    impact_results[n] = impactform.solve(min_det_time, sensor_characteristics, \n",
    "                                  scenario_characteristics, n)"
   ]
  },
  {
   "cell_type": "code",
   "execution_count": 18,
   "metadata": {},
   "outputs": [],
   "source": [
    "coverage_formulation = chama.optimize.CoverageFormulation()\n",
    "coverage_results = coverage_formulation.solve(scenario_cov, sensor_budget=5)    "
   ]
  },
  {
   "cell_type": "markdown",
   "metadata": {},
   "source": [
    "## Present Results of the Optimization Problem\n",
    "\n",
    "Note that for the zero sensor case, the results suggest the detection occurs in 34.5 hours.  This is a vestige of the model scenario duration, as all scenarios feature a maximum detection time of 34.5 hours.  In many studies, a node reaching the maximum duration without detection is considered a non-detection, which is factored into the second optimization criterion concerning the detection rate.  \n",
    "\n",
    "An interesting result is the marginal decrease in estimated time to detection for each additional sensor.  Many studies translate the expected detection time to both volumetric consumption of contaminated water, and size of affected population, which translates the objective function into different terms that are perhaps more relevant to the true nature of the contamination problem."
   ]
  },
  {
   "cell_type": "code",
   "execution_count": 19,
   "metadata": {},
   "outputs": [
    {
     "data": {
      "text/plain": [
       "Text(0, 0.5, 'Non-Detection Likelihood')"
      ]
     },
     "execution_count": 19,
     "metadata": {},
     "output_type": "execute_result"
    },
    {
     "data": {
      "image/png": "[encoded data removed]",
      "text/plain": [
       "<Figure size 1008x432 with 2 Axes>"
      ]
     },
     "metadata": {
      "needs_background": "light"
     },
     "output_type": "display_data"
    }
   ],
   "source": [
    "# Plot objective for each sensor placement\n",
    "objective_values = [impact_results[n]['Objective']/3600 for n in sensor_budget]\n",
    "detected_fractions = [impact_results[n]['FractionDetected'] for n in impact_results]\n",
    "\n",
    "# convert coverage to non-detection likelihood\n",
    "non_detect_likelihood = [1 - e for e in detected_fractions]\n",
    "\n",
    "fig, ax1 = plt.subplots()\n",
    "ax2 = ax1.twinx()\n",
    "ax1.plot(sensor_budget, objective_values, 'b', marker='.')\n",
    "ax2.plot(sensor_budget, non_detect_likelihood, 'r', marker='.')\n",
    "ax1.set_xlabel('Number of sensors')\n",
    "ax1.set_ylabel('Expected time to detection (hr)', color='b')\n",
    "ax2.set_ylabel('Non-Detection Likelihood', color='r')"
   ]
  },
  {
   "cell_type": "markdown",
   "metadata": {},
   "source": [
    "## Compare the Above Results to the Study Objectives and Results\n",
    "\n",
    "The default 'coverage' optimization problem in Chama finds a probabilistic lowest 'expected value' of the time to detection. \n",
    "\n",
    "Compare the 'detection likelihood', above, and non-detection likelihood, below, we see that the Chama solution is in the vicinity of the Pareto front derived in the study, however the detection time metrics are different.\n",
    "\n",
    "### Question:\n",
    "\n",
    "* What is a more realistic metric for the detection time?  \n",
    "  * As described in (Diwold, Ruhnke, and Middendorf 2010), $Z_1$ is _\"the minimal contamination detection time of a sensor placement S on the **detectable** (emphasis mine) set of contaminations\"_.\n",
    "  * the default setting in the Chama package is 'expected time to detection'.\n",
    "  \n",
    "\n",
    "The 'cost' of an undetected event is set by default at 1.5x the simulation duration.  What could we do to improve the interpretability of this metric?  How could we change the representation?  Is 'expected time to detection' any better?\n",
    "\n",
    "  \n",
    "\n",
    "![Solution Figure for 5 sensors](img/Pareto-front.png)\n",
    "\n",
    "Above: results for the 5 sensor problem from (Diwold, Ruhnke, and Middendorf 2010)."
   ]
  },
  {
   "cell_type": "markdown",
   "metadata": {},
   "source": [
    "## Plot the Approximate Optimal Solution\n",
    "\n",
    "Plot both the sensor placement layout representing the approximate solution, as well as a 'heat map' of the detection times for all nodes in the system."
   ]
  },
  {
   "cell_type": "code",
   "execution_count": 22,
   "metadata": {},
   "outputs": [
    {
     "data": {
      "text/plain": [
       "(<matplotlib.collections.PathCollection at 0x7fa2843e8f98>,\n",
       " <matplotlib.collections.LineCollection at 0x7fa2843ed390>)"
      ]
     },
     "execution_count": 22,
     "metadata": {},
     "output_type": "execute_result"
    },
    {
     "data": {
      "image/png": "[encoded data removed]",
      "text/plain": [
       "<Figure size 1008x432 with 1 Axes>"
      ]
     },
     "metadata": {},
     "output_type": "display_data"
    }
   ],
   "source": [
    "# Plot selected sensors\n",
    "n = 5\n",
    "selected_sensors = impact_results[n]['Sensors']\n",
    "wntr.graphics.plot_network(wn, node_attribute=selected_sensors, \n",
    "                           title='Optimal Placement of {} sensors'.format(n))\n",
    "\n",
    "# Plot detection time for each scenario, when using some number of sensors\n",
    "# assessment = results[n]['Assessment']\n",
    "# assessment.set_index('Scenario', inplace=True)\n",
    "# wntr.graphics.plot_network(wn, node_attribute=assessment['Impact']/3600, \n",
    "#                            title='Detection time (hr), n = {}'.format(n))"
   ]
  },
  {
   "cell_type": "markdown",
   "metadata": {},
   "source": [
    "### Open Source Frameworks\n",
    "\n",
    "The open-source Python package [WNTR (Water Network Tool for Resilience)](https://wntr.readthedocs.io/en/latest/), developed by Sandia National Laboratories, is used here to demonstrate the setup and execution of a hydraulic model that implements an ACO algorithm similar to that presented in (Diwold, Ruhnke, and Middendorf 2010).\n",
    "\n",
    "The WNTR package is extremely powerful and is equipped for analyzing many problems related to MWNs, including hydraulic modelling, and optimal sensor placement for such problems as leak localization and contamination detection.  \n",
    "\n",
    "For the contaminant detection problem, the WNTR package uses a mixed integer solver that is developed in the [Chama](https://chama.readthedocs.io/en/latest/overview.html) Python library, which specifically addresses the optimal sensor placement problem.  If you follow the link, you'll see how wide a range of applications this problem applies to, including oil and gas, process safety, water security, seismic and environmental monitoring, and asset protection and management.  "
   ]
  },
  {
   "cell_type": "markdown",
   "metadata": {},
   "source": [
    "# References\n",
    "\n",
    "* Diwold, Konrad, Thomas Ruhnke, and Martin Middendorf. 2010. “Sensor Placement in Water Networks Using a Population-Based Ant Colony Optimization Algorithm.” In, 6423:426–37. Berlin, Heidelberg: Springer Berlin Heidelberg.\n",
    "\n",
    "* Klise, K.A., Murray, R., Haxton, T. (2018). An overview of the Water Network Tool for Resilience (WNTR), In Proceedings of the 1st International WDSA/CCWI Joint Conference, Kingston, Ontario, Canada, July 23-25, 075, 8p.\n",
    "\n",
    "* Klise, K.A., Bynum, M., Moriarty, D., Murray, R. (2017). A software framework for assessing the resilience of drinking water systems to disasters with an example earthquake case study, Environmental Modelling and Software, 95, 420-431, doi: 10.1016/j.envsoft.2017.06.022\n",
    "\n",
    "* Klise, K.A., Hart, D.B., Moriarty, D., Bynum, M., Murray, R., Burkhardt, J., Haxton, T. (2017). Water Network Tool for Resilience (WNTR) User Manual, U.S. Environmental Protection Agency Technical Report, EPA/600/R-17/264, 47p.\n",
    "\n",
    "* Klise, K.A., Nicholson, B., and Laird, C.D. (2017). Sensor Placement Optimization using Chama, Sandia Report SAND2017-11472, Sandia National Laboratories.\n",
    "\n",
    "* Ostfeld, Avi, James G. Uber, Elad Salomons, Jonathan W. Berry, William E. Hart, Cindy A. Phillips, Jean-Paul Watson, et al. 2008. “The Battle of the Water Sensor Networks (Bwsn): A Design Challenge for Engineers and Algorithms.” Journal of Water Resources Planning and Management 134 (6): 556–68.\n",
    "\n",
    "* Preis, Ami, and Avi Ostfeld. 2008. “Multiobjective Contaminant Sensor Network Design for Water Distribution Systems.” Journal of Water Resources Planning and Management 134 (4): 366–77. "
   ]
  }
 ],
 "metadata": {
  "kernelspec": {
   "display_name": "Python 3",
   "language": "python",
   "name": "python3"
  },
  "language_info": {
   "codemirror_mode": {
    "name": "ipython",
    "version": 3
   },
   "file_extension": ".py",
   "mimetype": "text/x-python",
   "name": "python",
   "nbconvert_exporter": "python",
   "pygments_lexer": "ipython3",
   "version": "3.6.9"
  }
 },
 "nbformat": 4,
 "nbformat_minor": 4
}
