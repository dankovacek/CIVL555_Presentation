{
 "cells": [
  {
   "cell_type": "markdown",
   "metadata": {},
   "source": [
    "# CIVL 555 - Final Project Discussion\n",
    "\n",
    "| Name | Student Number | Date |\n",
    "|---|---|---|\n",
    "| Dan Kovacek | 35402767 | 17 April 2020 |\n",
    "\n",
    "### Overview\n",
    "The focus of this presentation is the paper *Sensor Placement in Water Networks Using a Population-Based Ant Colony Optimization Algorithm* (Diwold, Ruhnke, and Middendorf 2010).  The format of this presentation is an interactive Python notebook (using Jupyter), and the aim is to introduce the mechanics of a basic Ant Colony Optimization (ACO) algorithm through implementation of an ACO to the same type of optimal sensor placement problem (SPP) approached in the study.\n",
    "\n",
    "### Example Case\n",
    "Like many other studies, (Diwold, Ruhnke, and Middendorf 2010) uses two municipal water networks (MWN) provided by the United States Envirionmental Protection Agency (USEPA) as benchmark examples to demonstrate the performance of the ACO algorithm developed in their study.  Both MWNs are freely available online, and the one selected for demonstration herein represents the water distribution network of Richmond, Virginia.  The MWN features 872 nodes and 957 connecting pipes.\n",
    "\n",
    "### Open Source Frameworks\n",
    "\n",
    "The open-source Python package [WNTR (Water Network Tool for Resilience)](https://wntr.readthedocs.io/en/latest/), developed by Sandia National Laboratories, is used here to demonstrate the setup and execution of a hydraulic model that implements an ACO algorithm similar to that presented in (Diwold, Ruhnke, and Middendorf 2010).\n",
    "\n",
    "The WNTR package is extremely powerful and is equipped for analyzing many problems related to MWNs, including hydraulic modelling, and optimal sensor placement for such problems as leak localization and contamination detection."
   ]
  },
  {
   "cell_type": "code",
   "execution_count": 45,
   "metadata": {},
   "outputs": [],
   "source": [
    "# python package imports\n",
    "import wntr\n",
    "import chama\n",
    "\n",
    "import numpy as np\n",
    "import pandas as pd\n",
    "import matplotlib.pyplot as plt"
   ]
  },
  {
   "cell_type": "code",
   "execution_count": 50,
   "metadata": {},
   "outputs": [],
   "source": [
    "# import the network graph representation of the MWN \n",
    "# (the 'skeletion' is a smaller network for code development)\n",
    "filename = 'Richmond_skeleton.txt'\n",
    "# filename = 'Richmond.txt'\n",
    "\n",
    "# wn = wntr.network.WaterNetworkModel(filename_skel)\n",
    "wn = wntr.network.WaterNetworkModel(filename)"
   ]
  },
  {
   "cell_type": "code",
   "execution_count": 51,
   "metadata": {},
   "outputs": [
    {
     "data": {
      "text/plain": [
       "(<matplotlib.collections.PathCollection at 0x7fb03202df98>,\n",
       " <matplotlib.collections.LineCollection at 0x7fb031fb12e8>)"
      ]
     },
     "execution_count": 51,
     "metadata": {},
     "output_type": "execute_result"
    },
    {
     "data": {
      "image/png": "[encoded data removed]",
      "text/plain": [
       "<Figure size 432x288 with 1 Axes>"
      ]
     },
     "metadata": {},
     "output_type": "display_data"
    }
   ],
   "source": [
    "# visualize the network\n",
    "# fig, ax = plt.subplots(1, 1, figsize=(4,4))\n",
    "wntr.graphics.plot_network(wn, title=\"Richmond, VA Water Distribution Network\")"
   ]
  },
  {
   "cell_type": "markdown",
   "metadata": {},
   "source": [
    "## Ant Colony Optimiztion (ACO)\n",
    "\n",
    "The ACO is an algorithm that mimics the foraging behaviour of ant colonies in nature.  Individual ants can search the decision space near the current set of optimal solutions to make refinements on the existing solution (referred to as local heuristics), or they can search farther away to escape the local optima and find a better solution (pheromone information).  \n",
    "\n",
    "## (Population Based) Ant Colony Optimization (PACO)\n",
    "\n",
    "The ACO is limited to single-objective optimization problems.  An approach to address multi-objective optimization problems was proposed by (Guntsch et al. 2003) wherein instead of the set of ants only remembering one best solution each generation, a 'population' of best solutions describing the non-dominated Pareto set is constructed.  The pheromone information gets distributed to this population, and the population is updated when a newly encountered solution is found to dominate a solution in the population.  The newly dominated solution is then removed from having influence on the search."
   ]
  },
  {
   "cell_type": "markdown",
   "metadata": {},
   "source": [
    "## Set up the Simulation Parameters\n",
    "\n",
    "Set up the parameters used in the simulation.  Comments will indicate the parameter settings that were used in (Diwold, Ruhnke, and Middendorf 2010)."
   ]
  },
  {
   "cell_type": "code",
   "execution_count": 49,
   "metadata": {},
   "outputs": [],
   "source": [
    "# number of flow patterns \n",
    "n_patterns = 10 # 55\n",
    "# flow scenario cycle time (hours)\n",
    "t_cycle = 24 # 24\n",
    "# number of sensors\n",
    "n_sensors = 3 # 5\n",
    "# number of sets of contamination events\n",
    "n_event_sets = 1 # 2\n",
    "# number of contamination events\n",
    "n_cont_events = 500 # 2000"
   ]
  },
  {
   "cell_type": "markdown",
   "metadata": {},
   "source": [
    "# Define the Objective Function(s)\n",
    "\n",
    "In the case of (Diwold, Ruhnke, and Middendorf 2010), the objectives are to minimize the detection time of contaminations ($Z_1$), defined as the elapsed time between the start of the contamination event and the detection by a sensor, assuming ideal sensor operation, and to minimize the rate of non-detection ($Z_2$), defined as the number of contamination scenarios for which the given network cannot detect the contamination event.  \n",
    "\n",
    "$$Z_1(S, C) = \\frac{1}{D_S^C} \\sum_{C\\in D_S^C}d(C, S)$$\n",
    "$$Z_2(S, C) = 1 - \\frac{|D_S^C|}{|C|}$$\n",
    "\n",
    "Note that the two goals are in opposition, so movement in the decision space is necessarily a tradeoff of better performance of one criterion for worse performance of another criterion."
   ]
  },
  {
   "cell_type": "markdown",
   "metadata": {},
   "source": [
    "## Set up the contamination hydraulic model\n",
    "\n",
    "To be more computationally efficient, the contamination hydraulic model should be initialized before the sensor placement problem is run.  \n",
    "\n",
    "Simulations can are run for different scenarios of contamination *at each junction*, thereby covering the entire decision space.  These contaminant tracer scenarios are then saved to disk and recalled later for the sensor placement problem."
   ]
  },
  {
   "cell_type": "code",
   "execution_count": 54,
   "metadata": {},
   "outputs": [],
   "source": [
    "# Run trace simulations (one from each junction) and extract data needed for \n",
    "# sensor placement optimization. You can run this step once, save the data to a \n",
    "# file, and reload the file for sensor placement\n",
    "\n",
    "# note this only has to be run ONCE\n",
    "# before the sensor placement problem is executed\n",
    "\n",
    "scenario_names = wn.junction_name_list\n",
    "sim = wntr.sim.EpanetSimulator(wn)\n",
    "sim.run_sim(save_hyd = True)\n",
    "wn.options.quality.mode = 'TRACE'\n",
    "signal = pd.DataFrame()\n",
    "for inj_node in scenario_names:\n",
    "    wn.options.quality.trace_node = inj_node\n",
    "    sim_results = sim.run_sim(use_hyd = True)\n",
    "    trace = sim_results.node['quality']\n",
    "    trace = trace.stack()\n",
    "    trace = trace.reset_index()\n",
    "    trace.columns = ['T', 'Node', inj_node]\n",
    "    signal = signal.combine_first(trace)\n",
    "signal.to_csv('test_signal.csv')"
   ]
  },
  {
   "cell_type": "markdown",
   "metadata": {},
   "source": [
    "## Define the set of feasible sensor locations\n",
    "\n",
    "Feasible sensor locations are determined by the physical location, sample times, and the detection threshold.\n",
    "\n",
    "Then, for each contamination scenario at each node, extract the minimum detection time.\n"
   ]
  },
  {
   "cell_type": "code",
   "execution_count": 62,
   "metadata": {},
   "outputs": [],
   "source": [
    "sensor_names = wn.junction_name_list\n",
    "sample_times = np.arange(0, wn.options.time.duration, wn.options.time.hydraulic_timestep)\n",
    "threshold = 20\n",
    "sensors = {}\n",
    "for location in sensor_names:\n",
    "    position = chama.sensors.Stationary(location)\n",
    "    detector = chama.sensors.Point(threshold, sample_times)\n",
    "    stationary_pt_sensor = chama.sensors.Sensor(position, detector)\n",
    "    sensors[location] = stationary_pt_sensor\n",
    "    \n",
    "    \n",
    "# Extract minimum detection time for each scenario-sensor pair\n",
    "det_times = chama.impact.extract_detection_times(signal, sensors)\n",
    "det_time_stats = chama.impact.detection_time_stats(det_times)\n",
    "min_det_time = det_time_stats[['Scenario','Sensor','Min']].copy()\n",
    "min_det_time.rename(columns = {'Min':'Impact'}, inplace = True)"
   ]
  },
  {
   "cell_type": "markdown",
   "metadata": {},
   "source": [
    "## Run the Sensor Placement Optimization Algorithm"
   ]
  },
  {
   "cell_type": "code",
   "execution_count": 63,
   "metadata": {},
   "outputs": [],
   "source": [
    "# Run sensor placement optimization to minimize detection time using 0 to 5 sensors\n",
    "#   The impact for undetected scenarios is set at 1.5x the max sample time\n",
    "#   Sensor cost is defined uniformly using a value of 1.  This means that\n",
    "#   sensor_budget is equal to the number of sensors to place\n",
    "impactform = chama.optimize.ImpactFormulation()\n",
    "scenario_characteristics = pd.DataFrame({'Scenario': scenario_names,\n",
    "                                         'Undetected Impact': sample_times.max()*1.5})\n",
    "sensor_characteristics = pd.DataFrame({'Sensor': sensor_names,'Cost': 1})\n",
    "sensor_budget = [0,1,2,3,4,5]\n",
    "results = {}\n",
    "for n in sensor_budget:\n",
    "    impactform = chama.optimize.ImpactFormulation()\n",
    "    coveragform = chama.optimize.CoverageFormulation()\n",
    "    results[n] = impactform.solve(min_det_time, sensor_characteristics, \n",
    "                                  scenario_characteristics, n)\n"
   ]
  },
  {
   "cell_type": "markdown",
   "metadata": {},
   "source": [
    "## Present Results of the Optimization Problem"
   ]
  },
  {
   "cell_type": "code",
   "execution_count": 64,
   "metadata": {},
   "outputs": [
    {
     "data": {
      "text/plain": [
       "Text(0, 0.5, 'Expected time to detection (hr)')"
      ]
     },
     "execution_count": 64,
     "metadata": {},
     "output_type": "execute_result"
    },
    {
     "data": {
      "image/png": "[encoded data removed]",
      "text/plain": [
       "<Figure size 432x288 with 2 Axes>"
      ]
     },
     "metadata": {
      "needs_background": "light"
     },
     "output_type": "display_data"
    }
   ],
   "source": [
    "# Plot objective for each sensor placement\n",
    "objective_values =[results[n]['Objective']/3600 for n in sensor_budget]\n",
    "fig, ax1 = plt.subplots()\n",
    "ax2 = ax1.twinx() \n",
    "ax1.plot(sensor_budget, objective_values, 'b', marker='.')\n",
    "ax1.set_xlabel('Number of sensors')\n",
    "ax1.set_ylabel('Expected time to detection (hr)')"
   ]
  },
  {
   "cell_type": "markdown",
   "metadata": {},
   "source": [
    "## Plot the Approximate Optimal Solution\n",
    "\n",
    "Plot both the sensor placement layout representing the approximate solution, as well as a 'heat map' of the detection times for all nodes in the system."
   ]
  },
  {
   "cell_type": "code",
   "execution_count": 66,
   "metadata": {},
   "outputs": [
    {
     "data": {
      "text/plain": [
       "(<matplotlib.collections.PathCollection at 0x7fb036bcf5f8>,\n",
       " <matplotlib.collections.LineCollection at 0x7fb036bcf9b0>)"
      ]
     },
     "execution_count": 66,
     "metadata": {},
     "output_type": "execute_result"
    },
    {
     "data": {
      "image/png": "[encoded data removed]",
      "text/plain": [
       "<Figure size 432x288 with 1 Axes>"
      ]
     },
     "metadata": {},
     "output_type": "display_data"
    },
    {
     "data": {
      "image/png": "[encoded data removed]",
      "text/plain": [
       "<Figure size 432x288 with 2 Axes>"
      ]
     },
     "metadata": {},
     "output_type": "display_data"
    }
   ],
   "source": [
    "# Plot selected sensors, when using 3 sensors\n",
    "n = 5\n",
    "selected_sensors = results[n]['Sensors']\n",
    "wntr.graphics.plot_network(wn, node_attribute=selected_sensors, \n",
    "                           title='Selected sensors, n = {}'.format(n))\n",
    "\n",
    "# Plot detection time for each scenario, when using 3 sensors\n",
    "assessment = results[n]['Assessment']\n",
    "assessment.set_index('Scenario', inplace=True)\n",
    "wntr.graphics.plot_network(wn, node_attribute=assessment['Impact']/3600, \n",
    "                           title='Detection time (hr), n = {}'.format(n))"
   ]
  },
  {
   "cell_type": "markdown",
   "metadata": {},
   "source": [
    "## Probability of Sensor Placement\n",
    "\n",
    "\n",
    "\n",
    "An ant creates a solution iteratively, accounting for the sensors it has already placed.\n",
    "\n"
   ]
  },
  {
   "cell_type": "code",
   "execution_count": 37,
   "metadata": {},
   "outputs": [],
   "source": [
    "def determine_placement_probability(tau, eta, alpha, beta, n_sensors, n_nodes):\n",
    "    \"\"\"\n",
    "    Create the probability matrix of node selection, based on Equation 6 in \n",
    "    (Diwold, Ruhnke, and Middendorf 2010).\n",
    "    \"\"\"    \n",
    "    prob_array = np.zeros((n_nodes, n_sensors))\n",
    "    for k in range(n_sensors):\n",
    "        eta_array = np.power(eta[:, k], [beta for b in eta[:, k]])\n",
    "        tau_array = np.power(tau, [alpha for a in tau])\n",
    "        sum_tau_eta = np.dot(eta_array, tau_array).sum()\n",
    "        for i in range(n_nodes):\n",
    "            prob_array[k, i] = ((tau[i]**alpha) * (eta[k, i]**beta)) / (sum_tau_eta)\n",
    "    return prob_array\n",
    "            \n",
    "    "
   ]
  },
  {
   "cell_type": "code",
   "execution_count": 22,
   "metadata": {},
   "outputs": [],
   "source": [
    "tau1 = [1, 2, 1, 2.3, 1.3, 0.5]\n",
    "eta = [(0.5, 1), (1, 1), (0.4, 0.3), (0.3, 0.4), (0.9, 1.1)]\n",
    "alp = 0.3\n",
    "bet = 0.9\n"
   ]
  },
  {
   "cell_type": "code",
   "execution_count": 35,
   "metadata": {},
   "outputs": [
    {
     "name": "stdout",
     "output_type": "stream",
     "text": [
      "[[0.5]\n",
      " [1. ]\n",
      " [0.4]\n",
      " [0.3]\n",
      " [0.9]]\n"
     ]
    }
   ],
   "source": [
    "tau_arr = np.power(tau1, [alp for a in tau1])\n",
    "# eta_arr = np.power(eta)\n",
    "eta_mat = np.matrix(eta)\n",
    "print(eta_mat[:,0])"
   ]
  },
  {
   "cell_type": "code",
   "execution_count": null,
   "metadata": {},
   "outputs": [],
   "source": [
    "wn.options.quality.mode = 'CHEMICAL'"
   ]
  },
  {
   "cell_type": "code",
   "execution_count": 6,
   "metadata": {},
   "outputs": [],
   "source": [
    "# Simulate hydraulics\n",
    "sim = wntr.sim.EpanetSimulator(wn)"
   ]
  },
  {
   "cell_type": "code",
   "execution_count": 7,
   "metadata": {},
   "outputs": [],
   "source": [
    "results = sim.run_sim()"
   ]
  },
  {
   "cell_type": "code",
   "execution_count": null,
   "metadata": {},
   "outputs": [],
   "source": []
  },
  {
   "cell_type": "markdown",
   "metadata": {},
   "source": [
    "# References\n",
    "\n",
    "* Klise, K.A., Murray, R., Haxton, T. (2018). An overview of the Water Network Tool for Resilience (WNTR), In Proceedings of the 1st International WDSA/CCWI Joint Conference, Kingston, Ontario, Canada, July 23-25, 075, 8p.\n",
    "\n",
    "* Klise, K.A., Bynum, M., Moriarty, D., Murray, R. (2017). A software framework for assessing the resilience of drinking water systems to disasters with an example earthquake case study, Environmental Modelling and Software, 95, 420-431, doi: 10.1016/j.envsoft.2017.06.022\n",
    "\n",
    "* Klise, K.A., Hart, D.B., Moriarty, D., Bynum, M., Murray, R., Burkhardt, J., Haxton, T. (2017). Water Network Tool for Resilience (WNTR) User Manual, U.S. Environmental Protection Agency Technical Report, EPA/600/R-17/264, 47p."
   ]
  },
  {
   "cell_type": "code",
   "execution_count": null,
   "metadata": {},
   "outputs": [],
   "source": []
  }
 ],
 "metadata": {
  "kernelspec": {
   "display_name": "Python 3",
   "language": "python",
   "name": "python3"
  },
  "language_info": {
   "codemirror_mode": {
    "name": "ipython",
    "version": 3
   },
   "file_extension": ".py",
   "mimetype": "text/x-python",
   "name": "python",
   "nbconvert_exporter": "python",
   "pygments_lexer": "ipython3",
   "version": "3.6.9"
  }
 },
 "nbformat": 4,
 "nbformat_minor": 4
}
